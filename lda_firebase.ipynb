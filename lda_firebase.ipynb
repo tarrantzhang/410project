{
 "cells": [
  {
   "cell_type": "code",
   "execution_count": 1,
   "metadata": {
    "collapsed": false
   },
   "outputs": [],
   "source": [
    "import pyrebase\n",
    "import spacy\n",
    "import pandas as pd\n",
    "import numpy as np\n",
    "import nltk\n",
    "from nltk.stem import PorterStemmer\n",
    "from nltk.tokenize import PunktSentenceTokenizer\n",
    "from nltk.tokenize import WordPunctTokenizer\n",
    "from sklearn.feature_extraction.text import CountVectorizer\n",
    "from sklearn.decomposition import LatentDirichletAllocation\n",
    "from sklearn.feature_extraction.text import ENGLISH_STOP_WORDS\n",
    "import sklearn.model_selection\n",
    "import mglearn"
   ]
  },
  {
   "cell_type": "code",
   "execution_count": 2,
   "metadata": {
    "collapsed": false
   },
   "outputs": [],
   "source": [
    "config = {\n",
    "  \"apiKey\": \"XXX\",\n",
    "  \"authDomain\": \"XXX\",\n",
    "  \"databaseURL\": \"XXX\",\n",
    "    \"storageBucket\": \"XXX\",\n",
    "    \"serviceAccount\": \"/Users/YuanShen1/Desktop/projects/Assembo/Unknown\"\n",
    "}"
   ]
  },
  {
   "cell_type": "code",
   "execution_count": 3,
   "metadata": {
    "collapsed": false
   },
   "outputs": [],
   "source": [
    "firebase = pyrebase.initialize_app(config)"
   ]
  },
  {
   "cell_type": "code",
   "execution_count": 4,
   "metadata": {
    "collapsed": true
   },
   "outputs": [],
   "source": [
    "db = firebase.database()"
   ]
  },
  {
   "cell_type": "code",
   "execution_count": 5,
   "metadata": {
    "collapsed": false
   },
   "outputs": [],
   "source": [
    "users = db.child(\"users\").get()"
   ]
  },
  {
   "cell_type": "code",
   "execution_count": 6,
   "metadata": {
    "collapsed": false
   },
   "outputs": [],
   "source": [
    "all_users = db.child(\"users\").get()\n",
    "users = {}\n",
    "for user in all_users.each():\n",
    "    #print(user.key()) # Morty\n",
    "    #print(user.val()) # {name\": \"Mortimer 'Morty' Smith\"}\n",
    "    if(\"intro\" in user.val()):\n",
    "        users[user.key()] = user.val()['intro']"
   ]
  },
  {
   "cell_type": "code",
   "execution_count": 7,
   "metadata": {
    "collapsed": false
   },
   "outputs": [],
   "source": [
    "user_ids = [] \n",
    "user_values = []\n",
    "for key, value in users.items():\n",
    "    user_ids.append(key)\n",
    "    user_values.append(value)\n"
   ]
  },
  {
   "cell_type": "code",
   "execution_count": 8,
   "metadata": {
    "collapsed": false
   },
   "outputs": [],
   "source": [
    "stemmer = PorterStemmer()\n",
    "word_tokenizer = WordPunctTokenizer()\n",
    "processed_user_values = []\n",
    "for value in user_values:\n",
    "    sent_tokenizer = PunktSentenceTokenizer(value)\n",
    "    new_sentences = []\n",
    "    for sentence in sent_tokenizer.tokenize(value):\n",
    "        stemmed_words = [stemmer.stem(word).lower() for word in word_tokenizer.tokenize(sentence)]\n",
    "        filtered_word = []\n",
    "        for word in stemmed_words:\n",
    "            if len(word) > 1:\n",
    "                filtered_word.append(word)\n",
    "        new_sentences.append(\" \".join(filtered_word))\n",
    "    processed_user_values.append(\".\".join(new_sentences))"
   ]
  },
  {
   "cell_type": "code",
   "execution_count": 9,
   "metadata": {
    "collapsed": false
   },
   "outputs": [
    {
     "data": {
      "text/plain": [
       "['my address educ my name my number my student email bs comput scienc honor state univers cumul gpa 27 relev coursework fundament of comput scienc discret mathemat program in system fundament data structur experi to child develop llc juli 2015 present expect graduat may 2017 it consult address taught founder how to creat and maintain databas of client use microsoft access.work on applic to the new york state to be certifi as facil that help children with disabl.submit spreadsheet of certifi child develop therapist.success help founder kick start her compani and websit is under construct.eclips contract june 2014 present network administr address start out as an estim intern.complet train as well as contract with burberri metropolitan museum of art columbia univers and more for the compani.respons for monitor the compani server for malici activ.taught co worker how to implement googl busi and cloud comput.project octob 2013 as final project for class creat miner node simul which mine data and return monetari valu similar to bitcoin.anym june 2013 august 2013 graphic design address help to design the graphic interfac for an iphon app that make an easier restaur experi for vegetarian and gluten user.skill comput skill ++, java html css python regex latex assembl window os 10 vista xp ms offic adob photoshop adob premier pro simul for miner node present creator address languag skill fluent in russian and intermedi spanish research project manag in brookhaven nation laboratori februari 2015 attend class on project manag learn about the fundament of project manag along with the softwar as part of my univers program.leadership lean in circl may 2015 present circl moder address creat lean in circl to encourag and support women in comput scienc through activ and studi session.first robot team former co captain and current mentor creat my highschool first ever robot team.compet and the team won the rooki inspir award.stoni brook quidditch team 2015 club treasur address manag and organ the club financ with the rest of the execut board.reintroduct of ap comput scienc spearhead the movement address gather forti three student in my high school to sign petit to reintroduc the cours in the follow year and success brought it back to the curriculum.volunt my univers 2015 welcom wagon volunt help new incom student find their room and bring their belong.show student how to find the locat of their event.dewitt rehabilit nurs center volunt caretak kept elderli peopl compani dure group activ.help patient around the facil by push them on wheelchair to their chosen locat.scholarship august februari 2014 novemb 2013 present address decemb 2014 may april 2013 june 2013 my univers scholarship recipi august 2015 scholarship given to first year student at my univers who have been admit to the women in scienc and engin program.ny scienc technolog engin and mathemat stem incent program august 2015 year annual award given to student who attend state univeristi who maintain gpa abov rank in the top 10 of their high school and major in field that part of stem scienc technolog engin and mathemat ).',\n",
       " 'result driven custom focus articul and analyt senior softwar engin who can think out of the box ”..strong in design and integr problem solv skill.expert in java net and sql with databas analysi and design.skill in develop busi plan requir specif user document and architectur system research.strong written and verbal commun.interest in challeng technic track career in an applic develop environ.experienc in engin web develop all layer from databas to servic to user interfac support legaci system with backup of all case to from parallel system analysi and design of databas and user interfac manag requir implement softwar develop life cycl polici and procedur manag and support multipl project highli adapt in quickli chang technic environ with veri strong organiz and analyt skill employ trade financi sacramento ca juli 2002 present softwar engin custom servic system re engin custom account softwar system use by brokerag team.web develop for user interfac to trade inquiri support parallel system.develop and implement new feedback system for user concern bug and defect track regard use and function of new interfac.code web design interfac use java xml xsl ajax and jw.support system for exist intranet for employe includ design and develop the advantag work system compani wide.code and support provid through asp net sql microsoft sql server and oracl 9i collabor in the develop of in hous develop of new bank softwar interfac.support exist legaci system to provid newli creat case and ensur they were avail in the system in parallel until legaci system were retir.intel corpor folsom ca jan 2000 jul 2002 system programm remot server and ssl product analyst deploy and test remot instal servic ri )- server instal on window xp focus deploy of server build and handl some client build.modifi visual basic applic for use in post server build for custom build.research ri and activ directori for futur deploy worldwid.present find to both the network oper system network technolog integr team and the microsoft joint develop team jdp at intel.produc document binder for ri and activ directori to follow the project to the next team repres.wrote bi monthli progress report particip in weekli staff meet and jdp team meet design to develop white paper process.provid technic support to the ssl team manag inventori.particip in test and use of new sap system as it wa integr into intel.manag chipset product for io busi unit.csu chico chico ca 2000 2002 busi depart visual basic teach assist comput scienc depart supervisor ms offic suit teach assist supervis all lab assist guid them with student project develop.provid one to one guidanc with visual basic program instruct techniqu.wrote small program project for assign.present structur learn lab where student could ask question regard visual basic program construct and syntax.prepar structur teach guid pertain to chapter materi that complement the lectur by the professor.provid custom softwar for track student progress throughout the semest.it includ report for the professor on assess project homework lab work attend and overal grade.softwar skill experi with databas mysql oracl access sap softwar microsoft offic remedi microsoft sql server db artisan eclips visual studio net frontpag languag java visual basic asp xml xsl jw sql and sql educ california state univers chico ca bs comput scienc busi minor gpa colleg of the siskiy weed ca comput scienc',\n",
       " 'summari result orient io develop with more than three year experi write highli readabl clean maintain sourc code.develop more than 15 applic for iphon and ipad that offer user an intuit friendli interfac and success execut more than 75 updat to exist applic for varieti of small to mid size compani.result includ robust download activ session length retent rate revenu increas and referr.result dashboard insert url here relev skill languag io and object groovi java javascript php html bash databas mysql oracl develop softwar git eclips xcode technolog rest web rail java and javascript framework server tomcat jboss apach platform mac osx unix complet list insert url here select project and result complet list insert url here trendi sportswear onlin retail that also oper 24 brick and mortar store locat throughout the west.develop an app that allow store and warehous employe to manag inventori and complet order fulfil by scan merchandis sku and interfac with commerc back end gather specif consult with ux design it depart employe execut and buyer.highlight the app featur remot devic configur by consum rest web servic.ad function to facilit site to store transact and execut server side integr.tool io rest web servic java framework result decreas order fulfil time by 22 %, decreas back order and lost order by 15 %, increas revenu by %, improv custom satisfact score and social media feedback.bay area associ of rental car dealer consortium of mid size car rental firm locat throughout the bay area.develop new iphon applic that allow visitor to check avail compar rate view locat and direct and make reserv.respons for all phase from implement the design write code test debug and deploy.highlight built connect to the databas and pars data use json.integr core locat framework allow user to find the closest locat.tool object io sdk uikit oracl app store http :// itun appl com bacarrent result 14 000 user download the app and mid size rental firm increas market share by 25 within the first year.we ve taken market share from the big three thank to bill intuit user friendli app ,” john doe presid bay area associ of rental car dealer san francisco convent and visitor bureau develop and deploy an ipad app promot the citi to busi and visitor.highlight program uipageviewcontrol subclass for navig between articl and page.util uicollectionview to display larg 768 4000 pixel jpg imag slice into 768 100 pixel tile.implement video playback throughout the app.tool io object uikit xcode interfac builder instrument and git app store http :// itun appl com sfvisitor sourc code www github com iosgurujourn result more than 25 000 download activ rate of 85 and averag session length that exceed 20 minut.return rate of 62 %, which result in record year for the bureau in 2013.san jose save and loan investig and fix numer issu with exist widget function for an exist io app.highlight troubleshot and resolv seriou issu with third parti ui compon.incorpor auto layout so that the user interfac adjust for both and iphon screen.tool io and git app store http :// itun appl com sjsl result improv retent rate and referr by 38 %..work chronolog freelanc io develop 2011 to present sr java develop learn io bay area transit full time 2009 to 2011 java develop luxuri resort full time 2007 to 2009 junior softwar develop jone and son construct full time 2005 to 2007 educ comput scienc san jose state relev cours and train io program ii iii mac os for develop app store for programm multimedia for io io core os framework io multimedia program io and sql technolog w3c and www standard public blog tale of an io guru www iostal com io tutori contribut to chapter six on autom test www amazon com ios6develop',\n",
       " 'electr engin seek an entri level posit within the renew energi sector recent bsee graduat and eit with experi as an electr engin intern for major solar power solut manufactur.possess the analyt abil and technic skill necessari for engin innov design and applic.solid understand of electr engin theori industri standard circuit design test tool and photovolta pv system.educ xyz univers sometown ca bachelor of scienc in electr engin 2011 activ ieee student member societi of women engin swe student chapter senior capston design project complet renew energi engin project involv the design of switch mode power electron convert and electr drive for wind energi convert.relev cours digit electron circuit theori analog electron circuit logic design signal system sustain electr energi verilog hardwar descript languag hdl digit design engin in train eit -- pass the fundament of engin fe exam 2011 experi abc compani sometown ca photovolta manufactur provid solar electr power system solut.electr engin intern 11 2010 to 11 2011 custom design and size solar pv system for residenti and commerci custom use autocad to gener detail comput draw.particip in research and market project to promot renew energi and drive busi growth.key contribut work under senior electr engin to design pv system that convert sunlight into electr.equip select pv system with uninterrupt power suppli up capabl allow custom to oper select circuit for hour or even day dure util power outag.assist in distribut system voltag perform analysi for high level penetr photovolta contribut to research studi that will be use to optim futur pv system.conduct effici and price watt comparison on other solar power system on the market to gather intellig use for market campaign.wrote content for compani blog to educ the public on the advantag of solar electr power.“... janet wa an excel addit to our electr engin team ... she work on her first pv system design in the first week of her internship.she show an excel command of digit integr circuitri and photovolta ...” tom carter senior electr engin abc compani technolog summari autocad ++ mathematica framemak microst ms project and excel',\n",
       " 'my name address phone and email object comput scienc student with profici skill in object orient program comput architectur and the knowledg of mathemat behind comput.commit to achiev project goal in the most effici manner possibl solo or in team.experi name of well respect conveni store ** chang for censorship ** part time clerk extra relief april 2011 current an employe who travel to differ store everi day work shift for employe who have approv time off make posit impress on new manag at variou store everi shift.have work at 70 108 store in the phoenix tucson area highest possibl promot for part time employe 90 th percentil of cash handl in the divis posit feedback from the hundr of manag be met on yearli basi.local real estat compani ** chang for censorship ** summer media intern summer 2012 produc dozen of video showcas hous option that were then use to draw in new client through social media campaign.film and edit video befor the agre upon deadlin increas the market reach for thi real estat compani educ univers of arizona student fall 2013 spring 2017 plan major in comput scienc current enrol full time take cours in object orient program comput architectur and mathemat applic to program.minor in inform scienc technolog art sista minor will integr the skill learn in comput scienc to more broad applic includ inform scienc technolog art and other applic area of studi.technic skill program languag profici ): java object orient program and design android develop program languag intermedi ): assembl mips32 shell prolog unix and termin command busi softwar the microsoft offic suit includ excel video product po and cash handl use media to convey inform sampl project avail upon request',\n",
       " 'career profil skill dynam and accomplish network programm with extens knowledg of program and implement variou network applic.look for posit as network programm to util my knowledg and skill for the growth of the organ.profession strength possess more than nine year of profession experi as network programm extens knowledg of desktop support network and helpdesk excel written and verbal commun skill familiar with hardwar and softwar applic tool excel knowledg of troubleshoot and handl network issu abil to work under pressur and complet project within limit time period possess excel organiz and manag skill technic profici softwar applic microsoft word powerpoint excel frontpag word perfect and adob photoshop oper system window 98 2000 linux unix do nt and xp databas oracl db2 and mysql languag basic ++ html net sql javascript java javascript qbasic java proxi jdk servelt css prolog scheme and lisp profession experi claric softwar and network georgina 20xx till date network programm handl the task of develop troubleshoot and maintain network equip and devic particip as team member in manag network account and servic work close with secur group to ensur secur of servic system and password respons for identifi effect code process and procedur design develop and document complex network applic assign the task of plan and support of network and comput infrastructur respons for monitor network perform and implement perform tune handl the task of manag system backup and restor server cluster avl network co inc georgina 20xx to 20xx network programm respons for analyz review and rewrit applic program by use workflow chart and diagram assist the system analyst and comput oper in solv network problem respons for conduct train session for subordin in area of program and program code assign coordin and review the work and activ of program profession respons for develop new program method with the help of comput manufactur and end user consult with engin and technic personnel in identifi network problem assign the task of write technic instruct for oper profession perform other task as assign educ summari and certif bachelor degre in network network colleg georgina 19xx master degre in network it colleg georgina 19xx certif cours in cisco network inform train centr georgina 19xx person detail',\n",
       " 'target an internship or entri level opportun in ... softwar engin upcom bsse graduat offer strong foundat in softwar engin and program principl across multipl platform.experienc in object orient program develop test and debug code design interfac and administ system and network.quickli learn and master new technolog success work in both team and self direct set.educ abc colleg -- sometown ny pursu bachelor of scienc in softwar engin bsse 108 120 credit complet academ honor abc colleg program achiev citat 2011 dean list semest senior softwar engin capston design project in progress ): project scope current work as part of five member team on next gener rollout of robot control softwar for def compani technolog research compani special in robot.analyz function requir develop code and current test softwar applic.tool visual studio net and asp net cours complet java program data structur wireless mobil softwar engin object orient design databas manag system inform secur assembl languag program comput organ and architectur softwar engin process manag enterpris softwar overview softwar qualiti test network secur distribut os human comput interfac bioinformat def technolog institut -- sometown ny associ of scienc in comput scienc may 2009 work experi abc colleg -- sometown ny help desk technician octob 2011 to present provid network and desktop support account mainten and print assist to student and faculti.troubleshoot and resolv complex technolog problem as the go to person for it issu.ghi compani jkl compani -- sometown ny barista 2009 to 2010 season excel within servic orient posit concurr with colleg studi deliv premium custom servic and attract repeat custom.technolog summari visual studio net visual basic asp net ++ java .\\u200b net xml html javascript ajax css window linux unix ms offic suit',\n",
       " 'my name address phone and email object comput scienc student with profici skill in object orient program comput architectur and the knowledg of mathemat behind comput.commit to achiev project goal in the most effici manner possibl solo or in team.experi name of well respect conveni store ** chang for censorship ** part time clerk extra relief april 2011 current an employe who travel to differ store everi day work shift for employe who have approv time off make posit impress on new manag at variou store everi shift.have work at 70 108 store in the phoenix tucson area highest possibl promot for part time employe 90 th percentil of cash handl in the divis posit feedback from the hundr of manag be met on yearli basi.local real estat compani ** chang for censorship ** summer media intern summer 2012 produc dozen of video showcas hous option that were then use to draw in new client through social media campaign.film and edit video befor the agre upon deadlin increas the market reach for thi real estat compani educ univers of arizona student fall 2013 spring 2017 plan major in comput scienc current enrol full time take cours in object orient program comput architectur and mathemat applic to program.minor in inform scienc technolog art sista minor will integr the skill learn in comput scienc to more broad applic includ inform scienc technolog art and other applic area of studi.technic skill program languag profici ): java object orient program and design android develop program languag intermedi ): assembl mips32 shell prolog unix and termin command busi softwar the microsoft offic suit includ excel video product po and cash handl use media to convey inform sampl project avail upon request',\n",
       " 'web develop junior web develop abl to build web presenc from the ground up -- from concept navig layout and program to ux and seo .\\x97 skill at write well design testabl and effici code use current best practic in web develop.fast learner hard worker and team player who is profici in an array of script languag and multimedia web tool.technic toolbox web tool javascript jqueri css php html xhtml xml angularj bootstrap java net asp net python mysql github apach flex javafx rest soap cpanel googl analyt wordpress adob creativ cloud photoshop lightroom illustr indesign experi design premier pro after effect anim dreamweav fuse adob muse acrobat pro dc educ abc univers -- sometown oh bs inform technolog concentr in web site develop degre in progress cours web multimedia develop digit interact design graphic gui design search engin optim seo 3d anim agil methodolog web content manag internet technolog compress format audio video edit system secur web develop experi abc chariti sometown chapter -- sometown oh web develop 2015 to present summer volunt as web develop for newli open anim shelter.co develop dynam secur web site from scratch.launch visual appeal user friendli webscap with interact featur to optim traffic page view site sticki and user experi ux )..use seo best practic to elev organ web presenc achiev top 10 googl rank on sever highli competit keyword.creat onlin survey contest and donat form that boost fund and organiz visibl.help drive 38k in ecommerc revenu.engin innov adopt pet web applic custom for mobil devic.honor with volunt of the year award as result',\n",
       " 'educ languag skill project first last 111 address state usa student rit edu 111 867 5309 github com mygithubher rochest institut of technolog rochest ny expect may 2018 work experi blackbaud charleston sc softwar engin intern co op develop part of the public api for the financi edg nxt applic work with qa to creat unit test and itest for the endpoint written in #, use specflow visual studio and tf and postman document current live at develop sky blackbaud com may 2016 dec 2016 club activ interest electron game societi rit treasur starcraft ii repres fall 2014 handl all financ for one of the largest club on campu.help organ and run event for eg esport in fall 2014 nation societi of leadership and success rit member women in comput rit member electron frontier foundat member rochest area vegan societi member pattern recognit languag compil theori robot.classic jazz piano boulder anim activ.jun 2015 aug 2015 aug 2014 jul 2015 oct 2014 present aug 2013 present aug 2015 present aug 2015 present dual bachelor and master bs ms in comput scienc cumul gpa 34 honor rit achiev scholarship dean list sever semest relev cours pattern recognit program languag theori comput complex design and program of inexpens robot principl of data manag java #, python sml sql javascript latex git visual studio and tf cv english nativ ), french beginn ), croatian rudimentari help integr tesseract ocr into blackbaud financi edg nxt for invoic submiss as part of 24 hour hackathon.will be present more robust version at bbcon in octob.class project build an ocr for handwritten mathemat express use the crohm data set written in python use scikitlearn for random forest.graduat level independ studi in which slam wa implement on neato xv botvac use ro node and python with the end goal of success map build at rit.built applic in python to find and visual shortest distanc across dubrovnik use openstreetmap data and the algorithm given ani two arbitrari street node.center for acces and inclus research rochest ny research assist softwar engin work on an access web applic that provid inform about user input data mostli work in the back end javascript implement featur github com ritaccess glanc data analyz']"
      ]
     },
     "execution_count": 9,
     "metadata": {},
     "output_type": "execute_result"
    }
   ],
   "source": [
    "processed_user_values"
   ]
  },
  {
   "cell_type": "code",
   "execution_count": 10,
   "metadata": {
    "collapsed": false
   },
   "outputs": [],
   "source": [
    "vect = CountVectorizer(max_features=10000, max_df=.15, stop_words=\"english\")"
   ]
  },
  {
   "cell_type": "code",
   "execution_count": 11,
   "metadata": {
    "collapsed": false
   },
   "outputs": [],
   "source": [
    "X = vect.fit_transform(processed_user_values)"
   ]
  },
  {
   "cell_type": "code",
   "execution_count": 12,
   "metadata": {
    "collapsed": true
   },
   "outputs": [],
   "source": [
    "lda = LatentDirichletAllocation(n_topics=10, learning_method=\"batch\", max_iter=25, random_state=0)"
   ]
  },
  {
   "cell_type": "code",
   "execution_count": 13,
   "metadata": {
    "collapsed": true
   },
   "outputs": [],
   "source": [
    "document_topics = lda.fit_transform(X)"
   ]
  },
  {
   "cell_type": "code",
   "execution_count": 15,
   "metadata": {
    "collapsed": false
   },
   "outputs": [],
   "source": [
    "sorting = np.argsort(lda.components_, axis=1)[:, ::-1]"
   ]
  },
  {
   "cell_type": "code",
   "execution_count": 16,
   "metadata": {
    "collapsed": true
   },
   "outputs": [],
   "source": [
    "feature_names = np.array(vect.get_feature_names())"
   ]
  },
  {
   "cell_type": "code",
   "execution_count": 28,
   "metadata": {
    "collapsed": false
   },
   "outputs": [
    {
     "name": "stdout",
     "output_type": "stream",
     "text": [
      "topic 0       topic 1       topic 2       topic 3       topic 4       topic 5       \n",
      "--------      --------      --------      --------      --------      --------      \n",
      "jkl           legaci        seo           task          def           jkl           \n",
      "bioinformat   ri            oh            profession    bsse          bioinformat   \n",
      "print         2002          interact      georgina      bioinformat   print         \n",
      "premium       intel         best          19xx          print         premium       \n",
      "rollout       parallel      presenc       20xx          premium       rollout       \n",
      "upcom         lab           practic       certif        upcom         upcom         \n",
      "citat         chico         creativ       extens        rollout       citat         \n",
      "concurr       teach         compress      review        citat         concurr       \n",
      "control       track         boost         identifi      concurr       control       \n",
      "overview      case          format        word          control       overview      \n",
      "credit        environ       fund          coordin       overview      credit        \n",
      "opportun      professor     fuse          scheme        credit        opportun      \n",
      "desk          guid          concentr      infrastructur opportun      desk          \n",
      "technician    sap           form          jdk           deliv         technician    \n",
      "target        jdp           ground        rewrit        desk          target        \n",
      "enterpris     trade         gui           limit         technician    enterpris     \n",
      "scope         report        hard          restor        target        scope         \n",
      "faculti       focus         concept       claric        enterpris     faculti       \n",
      "repeat        meet          audio         subordin      faculti       repeat        \n",
      "ghi           jw            bootstrap     helpdesk      scope         ghi           \n",
      "human         directori     flex          cisco         ghi           human         \n",
      "special       instal        scratch       lisp          special       special       \n",
      "season        ssl           indesign      servelt       human         season        \n",
      "self          xsl           script        diagram       season        self          \n",
      "mainten       regard        search        familiar      self          mainten       \n",
      "pursu         grade         traffic       chart         pursu         pursu         \n",
      "deliv         driven        fast          strength      jkl           deliv         \n",
      "administ      think         toolbox       centr         mainten       administ      \n",
      "wireless      california    competit      avl           attract       wireless      \n",
      "120           guidanc       chariti       close         wireless      120           \n",
      "\n",
      "\n"
     ]
    }
   ],
   "source": [
    "mglearn.tools.print_topics(topics=range(6), feature_names=feature_names,\n",
    "                               sorting=sorting, topics_per_chunk=10, n_words=30)"
   ]
  },
  {
   "cell_type": "code",
   "execution_count": 34,
   "metadata": {
    "collapsed": false
   },
   "outputs": [
    {
     "name": "stdout",
     "output_type": "stream",
     "text": [
      "target an internship or entri level opportun in ... softwar engin upcom bsse graduat offer strong foundat in softwar engin and program principl across multipl platform.\n",
      "\n",
      "my name address phone and email object comput scienc student with profici skill in object orient program comput architectur and the knowledg of mathemat behind comput.commit to achiev project goal in the most effici manner possibl solo or in team.experi name of well respect conveni store ** chang for censorship ** part time clerk extra relief april 2011 current an employe who travel to differ store everi day work shift for employe who have approv time off make posit impress on new manag at variou store everi shift.have work at 70 108 store in the phoenix tucson area highest possibl promot for part time employe 90 th percentil of cash handl in the divis posit feedback from the hundr of manag be met on yearli basi.\n",
      "\n"
     ]
    }
   ],
   "source": [
    "topic = np.argsort(document_topics[:, 4])[::-1]\n",
    "for i in topic[:2]:\n",
    "        # pshow first two sentences\n",
    "        print(\".\".join(processed_user_values[i].split(\".\")[:4]) + \".\\n\")"
   ]
  }
 ],
 "metadata": {
  "kernelspec": {
   "display_name": "Python 3",
   "language": "python",
   "name": "python3"
  },
  "language_info": {
   "codemirror_mode": {
    "name": "ipython",
    "version": 3
   },
   "file_extension": ".py",
   "mimetype": "text/x-python",
   "name": "python",
   "nbconvert_exporter": "python",
   "pygments_lexer": "ipython3",
   "version": "3.5.2"
  }
 },
 "nbformat": 4,
 "nbformat_minor": 0
}
